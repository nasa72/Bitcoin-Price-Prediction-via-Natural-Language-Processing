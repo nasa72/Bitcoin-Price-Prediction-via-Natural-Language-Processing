{
 "cells": [
  {
   "cell_type": "code",
   "execution_count": 2,
   "metadata": {},
   "outputs": [
    {
     "name": "stderr",
     "output_type": "stream",
     "text": [
      "Using TensorFlow backend.\n"
     ]
    }
   ],
   "source": [
    "import pandas as pd\n",
    "import numpy as np\n",
    "import matplotlib.pyplot as plt\n",
    "from keras.models import Sequential\n",
    "from keras.layers import LSTM, Dropout, Dense, Activation\n",
    "import datetime"
   ]
  },
  {
   "cell_type": "code",
   "execution_count": 3,
   "metadata": {},
   "outputs": [],
   "source": [
    "data = pd.read_csv(\"Price.csv\")"
   ]
  },
  {
   "cell_type": "code",
   "execution_count": 4,
   "metadata": {},
   "outputs": [],
   "source": [
    "high_prices=data['High'].values\n",
    "low_prices=data['Low'].values\n",
    "mid_prices=(high_prices+low_prices)/2"
   ]
  },
  {
   "cell_type": "markdown",
   "metadata": {},
   "source": [
    "# Create Window"
   ]
  },
  {
   "cell_type": "code",
   "execution_count": 5,
   "metadata": {},
   "outputs": [],
   "source": [
    "seq_len=50 #최근 50일데이터보고 미래예측\n",
    "sequence_length=seq_len+1\n",
    "\n",
    "result=[]\n",
    "for index in range(len(mid_prices)-sequence_length):\n",
    "    result.append(mid_prices[index:index+sequence_length])"
   ]
  },
  {
   "cell_type": "markdown",
   "metadata": {},
   "source": [
    "# Normalize Data"
   ]
  },
  {
   "cell_type": "code",
   "execution_count": 6,
   "metadata": {},
   "outputs": [
    {
     "data": {
      "text/plain": [
       "((1516, 50, 1), (169, 50, 1))"
      ]
     },
     "execution_count": 6,
     "metadata": {},
     "output_type": "execute_result"
    }
   ],
   "source": [
    "normalized_data=[]\n",
    "for window in result:\n",
    "    normalized_window=[((float(p)/float(window[0]))-1)for p in window]\n",
    "    normalized_data.append(normalized_window)\n",
    "    \n",
    "result=np.array(normalized_data)\n",
    "\n",
    "#split train and test data\n",
    "row = int(round(result.shape[0]*0.9))\n",
    "train=result[:row,:]\n",
    "np.random.shuffle(train)\n",
    "\n",
    "x_train=train[:,:-1]\n",
    "x_train=np.reshape(x_train,(x_train.shape[0],x_train.shape[1],1))\n",
    "y_train=train[:,-1]\n",
    "\n",
    "x_test=result[row:,:-1]\n",
    "x_test=np.reshape(x_test,(x_test.shape[0],x_test.shape[1],1))\n",
    "y_test=result[row:,-1]\n",
    "\n",
    "x_train.shape, x_test.shape"
   ]
  },
  {
   "cell_type": "markdown",
   "metadata": {},
   "source": [
    "# Build a Model"
   ]
  },
  {
   "cell_type": "code",
   "execution_count": 7,
   "metadata": {
    "scrolled": true
   },
   "outputs": [
    {
     "name": "stdout",
     "output_type": "stream",
     "text": [
      "Model: \"sequential_1\"\n",
      "_________________________________________________________________\n",
      "Layer (type)                 Output Shape              Param #   \n",
      "=================================================================\n",
      "lstm_1 (LSTM)                (None, 50, 50)            10400     \n",
      "_________________________________________________________________\n",
      "lstm_2 (LSTM)                (None, 64)                29440     \n",
      "_________________________________________________________________\n",
      "dense_1 (Dense)              (None, 1)                 65        \n",
      "=================================================================\n",
      "Total params: 39,905\n",
      "Trainable params: 39,905\n",
      "Non-trainable params: 0\n",
      "_________________________________________________________________\n"
     ]
    }
   ],
   "source": [
    "model=Sequential()\n",
    "model.add(LSTM(50, return_sequences=True, input_shape=(50,1)))\n",
    "model.add(LSTM(64, return_sequences=False)) #조정하며 성능 테스트\n",
    "model.add(Dense(1,activation='linear')) #다음날 하루의 데이터 예측\n",
    "model.compile(loss='mse', optimizer='rmsprop') #min squared error for loss\n",
    "model.summary()"
   ]
  },
  {
   "cell_type": "markdown",
   "metadata": {},
   "source": [
    "# Training"
   ]
  },
  {
   "cell_type": "code",
   "execution_count": 8,
   "metadata": {},
   "outputs": [
    {
     "name": "stdout",
     "output_type": "stream",
     "text": [
      "Train on 1516 samples, validate on 169 samples\n",
      "Epoch 1/20\n",
      "1516/1516 [==============================] - 6s 4ms/step - loss: 0.0086 - val_loss: 0.0013\n",
      "Epoch 2/20\n",
      "1516/1516 [==============================] - 5s 4ms/step - loss: 0.0041 - val_loss: 0.0037\n",
      "Epoch 3/20\n",
      "1516/1516 [==============================] - 6s 4ms/step - loss: 0.0030 - val_loss: 6.0081e-04\n",
      "Epoch 4/20\n",
      "1516/1516 [==============================] - 5s 4ms/step - loss: 0.0022 - val_loss: 5.4199e-04\n",
      "Epoch 5/20\n",
      "1516/1516 [==============================] - 6s 4ms/step - loss: 0.0017 - val_loss: 4.0751e-04\n",
      "Epoch 6/20\n",
      "1516/1516 [==============================] - 6s 4ms/step - loss: 0.0015 - val_loss: 3.9657e-04\n",
      "Epoch 7/20\n",
      "1516/1516 [==============================] - 6s 4ms/step - loss: 0.0014 - val_loss: 3.6846e-04\n",
      "Epoch 8/20\n",
      "1516/1516 [==============================] - 6s 4ms/step - loss: 0.0012 - val_loss: 3.5935e-04\n",
      "Epoch 9/20\n",
      "1516/1516 [==============================] - 6s 4ms/step - loss: 0.0012 - val_loss: 3.4607e-04\n",
      "Epoch 10/20\n",
      "1516/1516 [==============================] - 6s 4ms/step - loss: 0.0013 - val_loss: 3.8614e-04\n",
      "Epoch 11/20\n",
      "1516/1516 [==============================] - 6s 4ms/step - loss: 0.0012 - val_loss: 6.6252e-04\n",
      "Epoch 12/20\n",
      "1516/1516 [==============================] - 6s 4ms/step - loss: 0.0012 - val_loss: 3.3719e-04\n",
      "Epoch 13/20\n",
      "1516/1516 [==============================] - 5s 4ms/step - loss: 0.0012 - val_loss: 5.6756e-04\n",
      "Epoch 14/20\n",
      "1516/1516 [==============================] - 6s 4ms/step - loss: 0.0012 - val_loss: 3.2513e-04\n",
      "Epoch 15/20\n",
      "1516/1516 [==============================] - 6s 4ms/step - loss: 0.0012 - val_loss: 3.5372e-04\n",
      "Epoch 16/20\n",
      "1516/1516 [==============================] - 5s 4ms/step - loss: 0.0012 - val_loss: 3.3468e-04\n",
      "Epoch 17/20\n",
      "1516/1516 [==============================] - 6s 4ms/step - loss: 0.0012 - val_loss: 3.3023e-04\n",
      "Epoch 18/20\n",
      "1516/1516 [==============================] - 5s 4ms/step - loss: 0.0012 - val_loss: 0.0010\n",
      "Epoch 19/20\n",
      "1516/1516 [==============================] - 5s 4ms/step - loss: 0.0012 - val_loss: 4.9764e-04\n",
      "Epoch 20/20\n",
      "1516/1516 [==============================] - 6s 4ms/step - loss: 0.0012 - val_loss: 6.9160e-04\n"
     ]
    },
    {
     "data": {
      "text/plain": [
       "<keras.callbacks.callbacks.History at 0x2575f673d88>"
      ]
     },
     "execution_count": 8,
     "metadata": {},
     "output_type": "execute_result"
    }
   ],
   "source": [
    "model.fit(x_train, y_train, validation_data=(x_test,y_test), batch_size=10, epochs=20)"
   ]
  },
  {
   "cell_type": "markdown",
   "metadata": {},
   "source": [
    "# Prediction"
   ]
  },
  {
   "cell_type": "code",
   "execution_count": 25,
   "metadata": {},
   "outputs": [
    {
     "data": {
      "image/png": "[encoded data removed]",
      "text/plain": [
       "<Figure size 432x288 with 1 Axes>"
      ]
     },
     "metadata": {},
     "output_type": "display_data"
    }
   ],
   "source": [
    "pred = model.predict(x_test)\n",
    "\n",
    "fig=plt.figure(facecolor='white')\n",
    "ax=fig.add_subplot(111)\n",
    "ax.plot(y_test,label='True')\n",
    "ax.plot(pred,label='Prediction')\n",
    "ax.legend()\n",
    "plt.show()"
   ]
  }
 ],
 "metadata": {
  "kernelspec": {
   "display_name": "Python 3",
   "language": "python",
   "name": "python3"
  },
  "language_info": {
   "codemirror_mode": {
    "name": "ipython",
    "version": 3
   },
   "file_extension": ".py",
   "mimetype": "text/x-python",
   "name": "python",
   "nbconvert_exporter": "python",
   "pygments_lexer": "ipython3",
   "version": "3.7.6"
  }
 },
 "nbformat": 4,
 "nbformat_minor": 4
}
